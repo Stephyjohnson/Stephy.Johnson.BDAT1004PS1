{
 "cells": [
  {
   "cell_type": "markdown",
   "id": "dd7ae71a",
   "metadata": {},
   "source": [
    "PROBLEM SET 1\n",
    "------------------------\n",
    "#Qusetion 1 C# \n",
    "What data type is each of the following?\n",
    "\n",
    " Ans.   5-> int\n",
    "        5.0 ->double\n",
    "        5 > 1 -> Boolean\n",
    "        '5' -> char\n",
    "        5 * 2->int\n",
    "        '5' * 2 ->int\n",
    "        '5' + '2'->int\n",
    "        5 / 2 ->int\n",
    "        5 % 2 ->int\n",
    "        {5, 2, 1} ->list\n",
    "        5 == 3 ->boolean\n",
    "        Pi(the number)->double"
   ]
  },
  {
   "cell_type": "markdown",
   "id": "dd527d24",
   "metadata": {},
   "source": [
    "Question 2 C# Write (and evaluate) C# expressions that answer these questions:\n",
    "\n",
    "a. How many letters are there in 'Supercalifragilisticexpialidocious'?\n",
    "b. Does 'Supercalifragilisticexpialidocious' contain 'ice' as a substring? \n",
    "c. Which of the following words is the longest: \n",
    "Supercalifragilisticexpialidocious, Honorificabilitudinitatibus, or \n",
    "Bababadalgharaghtakamminarronnkonn? \n",
    "d. Which composer comes first in the dictionary: 'Berlioz', 'Borodin', 'Brian', \n",
    "'Bartok', 'Bellini', 'Buxtehude', 'Bernstein'. Which one comes last?"
   ]
  },
  {
   "cell_type": "code",
   "execution_count": null,
   "id": "b680be1c",
   "metadata": {},
   "outputs": [],
   "source": [
    "using System;\n",
    "using System.Collections.Generic;\n",
    "    public class Problemset1\n",
    "    {\n",
    "        static void Main(string[] args)\n",
    "        {\n",
    "            string firstString= \"Supercalifragilisticexpialidocious\";\n",
    "            string secondString = \"Honorificabilitudinitatibus\";\n",
    "            string thirdString = \"Bababadalgharaghtakamminarronnkonn\";\n",
    "            int length1 = firstString.Length;\n",
    "            int length2 = secondString.Length;\n",
    "            int length3 = thirdString.Length;\n",
    "            Console.WriteLine(\"a. Length of \" +firstString+ \" is \"+ length1+1);\n",
    "            Console.WriteLine(\"b. Is \"+firstString+ \" contains ice?\" +firstString.Contains(\"ice\"));\n",
    "            if(length1>length2)\n",
    "            {\n",
    "                if (length1 > length3)\n",
    "                    Console.WriteLine(\"c.\"+ firstString + \" is the largest string\");\n",
    "                else\n",
    "                    Console.WriteLine(\"c.\" + thirdString + \" is the largest string\");\n",
    "            }\n",
    "            else\n",
    "            {\n",
    "                if(length2>length3)\n",
    "                    Console.WriteLine(\"c.\" + secondString + \" is the largest string\");\n",
    "                else\n",
    "                    Console.WriteLine(\"c.\" + thirdString + \" is the largest string\");\n",
    "            }\n",
    "        Dictionary<int, string> composers = new Dictionary<int, string>();\n",
    "        composers.Add(1, \"Berlioz\");\n",
    "        composers.Add(2, \"Borodin\");\n",
    "        composers.Add(3, \"Brian\");\n",
    "        composers.Add(4, \"Bartok\");\n",
    "        composers.Add(5, \"Bellini\");\n",
    "        composers.Add(6, \"Buxtehude\");\n",
    "        composers.Add(7, \"Bernstein\");\n",
    "        Console.WriteLine(\"d.\");\n",
    "        foreach (KeyValuePair<int, string> kv in composers)\n",
    "            Console.WriteLine(kv.Key + \" \" + kv.Value);\n",
    "        Console.ReadLine();\n",
    "        }\n",
    "    }"
   ]
  },
  {
   "cell_type": "markdown",
   "id": "bf25ffeb",
   "metadata": {},
   "source": [
    "<center><img title=\"a title\" alt=\"Alt text\" src=\"C#Answer2.jpg\"></center>"
   ]
  },
  {
   "cell_type": "markdown",
   "id": "3c4b7bfe",
   "metadata": {},
   "source": [
    "Question 3 C# Implement function triangleArea(a,b,c) that takes as input the lengths of the 3 sides of a triangle and returns the area of the triangle. By Heron's formula, the area of a triangle with side lengths a, b, and c is s(s - a)(s -b)(s -c), where s = (a+b+c)/2. \n",
    ">>> triangleArea(2,2,2)\n",
    "1.7320508075688772"
   ]
  },
  {
   "cell_type": "code",
   "execution_count": null,
   "id": "701793a0",
   "metadata": {},
   "outputs": [],
   "source": [
    "using System;\n",
    "public class Problemset1\n",
    "{\n",
    "    static void Main(string[] args)\n",
    "    {\n",
    "        Console.WriteLine(\"Finding the area of triangle\");\n",
    "        Console.WriteLine(\"Enter the first side of triangle:\");\n",
    "        double a = Convert.ToDouble(Console.ReadLine());\n",
    "        Console.WriteLine(\"Enter the second side of trianle:\");\n",
    "        double b = Convert.ToDouble(Console.ReadLine());\n",
    "        Console.WriteLine(\"Enter the third side of triangle:\");\n",
    "        double c = Convert.ToDouble(Console.ReadLine());\n",
    "        Problemset1 ps1 = new Problemset1();\n",
    "        double Trianglearea = ps1.triangleArea(a, b, c);\n",
    "        Console.WriteLine(\"The area of the triangle is:\" + Trianglearea);\n",
    "        Console.ReadLine();\n",
    "    }\n",
    "\n",
    "\n",
    "    public double triangleArea(double a, double b, double c)\n",
    "    {\n",
    "        double s = (a + b + c) / 2;\n",
    "        double Area = Math.Sqrt(s * (s - a) * (s - b) * (s - c));\n",
    "        return Area;\n",
    "\n",
    "    }\n",
    "\n",
    "}"
   ]
  },
  {
   "cell_type": "markdown",
   "id": "c7d9fc5e",
   "metadata": {},
   "source": [
    "<center><img title=\"a title\" alt=\"Alt text\" src=\"C#Answer3.JPG\"></center>"
   ]
  },
  {
   "cell_type": "markdown",
   "id": "659d16ad",
   "metadata": {},
   "source": [
    "Question 4 C#\n",
    "Write a program in C# Sharp to separate odd and even integers in separate arrays. \n",
    "Go to the editor"
   ]
  },
  {
   "cell_type": "code",
   "execution_count": null,
   "id": "fe520fa9",
   "metadata": {},
   "outputs": [],
   "source": [
    "using System;\n",
    "public class Problemset1\n",
    "{\n",
    "    public static void Main()\n",
    "    {\n",
    "        int[] arr = new int[5];\n",
    "        int[] arr1 = new int[5];\n",
    "        int[] arr2 = new int[5];\n",
    "        int i, j = 0, k = 0;\n",
    "        Console.Write(\"Input the number of elements to be stored in the array :\");\n",
    "        int n = Convert.ToInt32(Console.ReadLine()); \n",
    "        Console.Write(\"Input \"+ n +\" elements in the array :\\n\"); \n",
    "        for (i = 0; i < n; i++) \n",
    "        {   \n",
    "            Console.Write(\"element - \"+i+\" : \"); \n",
    "            arr[i] = Convert.ToInt32(Console.ReadLine()); \n",
    "        } \n",
    "        \n",
    "        for (i = 0; i < arr.Length; i++)\n",
    "        {\n",
    "            if (arr[i] % 2 == 0)\n",
    "            {\n",
    "                arr1[j] = arr[i];\n",
    "                j++;\n",
    "            }\n",
    "            else\n",
    "            {\n",
    "                arr2[k] = arr[i];\n",
    "                k++;\n",
    "            }\n",
    "\n",
    "        }\n",
    "        Console.WriteLine(\"\\nThe Even elements are:\");\n",
    "        for (i = 0; i < j; i++)\n",
    "        {\n",
    "            Console.Write(arr1[i] + \" \");\n",
    "        }\n",
    "        Console.WriteLine(\"\\nThe odd elements are:\");\n",
    "        for (i = 0; i < k; i++)\n",
    "        {\n",
    "            Console.Write(arr2[i] + \" \");\n",
    "        }\n",
    "        Console.ReadLine();\n",
    "\n",
    "    }\n",
    "}"
   ]
  },
  {
   "cell_type": "markdown",
   "id": "352fed27",
   "metadata": {},
   "source": [
    "<center><img title=\"a title\" alt=\"Alt text\" src=\"C#Answer4.JPG\"></center>"
   ]
  },
  {
   "cell_type": "markdown",
   "id": "7e35502d",
   "metadata": {},
   "source": [
    "Question 5 C#\n",
    "a. Write a function inside(x,y,x1,y1,x2,y2) that returns True or False \n",
    "depending on whether the point (x,y) lies in the rectangle with lower left \n",
    "corner (x1,y1) and upper right corner (x2,y2).\n",
    "b. Use function inside() from part a. to write an expression that tests whether \n",
    "the point (1,1) lies in both of the following rectangles: one with lower left \n",
    "corner (0.3, 0.5) and upper right corner (1.1, 0.7) and the other with lower \n",
    "left corner (0.5, 0.2) and upper right corner (1.1, 2)."
   ]
  },
  {
   "cell_type": "code",
   "execution_count": null,
   "id": "1396f764",
   "metadata": {},
   "outputs": [],
   "source": [
    "using System;\n",
    "public class Problemset1\n",
    "{\n",
    "        static bool inside(int x1, int y1, int x2, int y2, int x, int y)\n",
    "        {\n",
    "            if (x > x1 && x < x2 && y > y1 && y < y2)\n",
    "                return true;\n",
    "            else\n",
    "                return false;\n",
    "        }\n",
    "        public static void Main(string[] args)\n",
    "        {\n",
    "            Console.WriteLine(\"Enter the coordinates of the rectangle: \");\n",
    "            Console.WriteLine(\"x1: \");\n",
    "            int x1 = Convert.ToInt32(Console.ReadLine());\n",
    "            Console.WriteLine(\"y1: \");\n",
    "            int y1 = Convert.ToInt32(Console.ReadLine());\n",
    "            Console.WriteLine(\"x2: \");\n",
    "            int x2 = Convert.ToInt32(Console.ReadLine());\n",
    "            Console.WriteLine(\"y2: \");\n",
    "            int y2 = Convert.ToInt32(Console.ReadLine());\n",
    "            Console.WriteLine(\"Enter the given point: \");\n",
    "            Console.WriteLine(\"x coordinate of the point: \");\n",
    "            int x = Convert.ToInt32(Console.ReadLine());\n",
    "            Console.WriteLine(\"y coordinate of the point: \");\n",
    "            int y = Convert.ToInt32(Console.ReadLine());\n",
    "            if (inside(x1, y1, x2, y2, x, y))\n",
    "                Console.Write(\"Yes, the point lies within the rectangle\");\n",
    "            else\n",
    "                Console.Write(\"No, the point doesn't ie within the rectangle\");\n",
    "        Console.ReadLine();\n",
    "\n",
    "        }\n",
    "       \n",
    "}"
   ]
  },
  {
   "cell_type": "markdown",
   "id": "46f2cedb",
   "metadata": {},
   "source": [
    "<center><img title=\"a title\" alt=\"Alt text\" src=\"C#Answer5a.JPG\"></center>\n",
    "<center><img title=\"a title\" alt=\"Alt text\" src=\"C#Answer5b.JPG\"></center>"
   ]
  },
  {
   "cell_type": "markdown",
   "id": "2b02bfde",
   "metadata": {},
   "source": [
    "Question 6 Python\n",
    "You can turn a word into pig-Latin using the following two rules (simplified):\n",
    "• If the word starts with a consonant, move that letter to the end and append \n",
    "'ay'. For example, 'happy' becomes 'appyhay' and 'pencil' becomes 'encilpay'.\n",
    "• If the word starts with a vowel, simply append 'way' to the end of the word. \n",
    "For example, 'enter' becomes 'enterway' and 'other' becomes 'otherway' . For \n",
    "our purposes, there are 5 vowels: a, e, i, o, u (so we count y as a consonant).\n",
    "Write a function pig() that takes a word (i.e., a string) as input and returns its pig\u0002Latin form. Your function should still work if the input word contains upper case \n",
    "characters. Your output should always be lower case however."
   ]
  },
  {
   "cell_type": "code",
   "execution_count": 23,
   "id": "e4c68d8d",
   "metadata": {},
   "outputs": [
    {
     "name": "stdout",
     "output_type": "stream",
     "text": [
      "Enter your string:Happy\n"
     ]
    },
    {
     "data": {
      "text/plain": [
       "['appyhay']"
      ]
     },
     "execution_count": 23,
     "metadata": {},
     "output_type": "execute_result"
    }
   ],
   "source": [
    "#reference from Stackoverflow and other sites\n",
    "def pig(lowerinput):\n",
    "    pigLatin=[]\n",
    "    pigLatinCon=[]\n",
    "    vowels = ['a', 'e', 'i', 'o', 'u']\n",
    "    for word in lowerinput:\n",
    "        if word[0] in vowels: \n",
    "            pigLatin.append(word + 'way')\n",
    "        if word[0] not in vowels:\n",
    "            pigLatinCon=[pigLatinCon for pigLatinCon in word]\n",
    "            remainChar=pigLatinCon[1:]\n",
    "            remainChar.append(pigLatinCon[0]+'a'+'y')\n",
    "            wordlist=\"\".join(remainChar)\n",
    "            pigLatin.append(wordlist)\n",
    "    return pigLatin\n",
    "userInput=input(\"Enter your string:\")\n",
    "lowerinput=userInput.lower().split(\" \")\n",
    "PigLatin=pig(lowerinput)\n",
    "PigLatin"
   ]
  },
  {
   "cell_type": "markdown",
   "id": "c1d2ba46",
   "metadata": {},
   "source": [
    "Question 7 Python\n",
    "File bloodtype1.txt records blood-types of patients (A, B, AB, O or OO) at a clinic. \n",
    "Write a function bldcount() that reads the file with name and reports (i.e., \n",
    "prints) how many patients there are in each bloodtype."
   ]
  },
  {
   "cell_type": "code",
   "execution_count": 31,
   "id": "b648b1b9",
   "metadata": {},
   "outputs": [
    {
     "name": "stdout",
     "output_type": "stream",
     "text": [
      "There are 15 patients of blood type A\n",
      "There are 1 patients of blood type B\n",
      "There are 13 patients of blood type AB\n",
      "There are 15 patients of blood type O\n",
      "There are 0 patients of blood type OO\n"
     ]
    }
   ],
   "source": [
    "def bldcount(string):\n",
    "    \n",
    "    name=open(string,'r')\n",
    "    x = name.read()\n",
    "    y = x.split()\n",
    "    a=y.count('A')\n",
    "    b=y.count('B')\n",
    "    ab=y.count('AB')\n",
    "    o=y.count('O')   \n",
    "    oo=y.count('OO')\n",
    "    print('There are {} patients of blood type A'.format(a))\n",
    "    print('There are {} patients of blood type B'.format(b))\n",
    "    print('There are {} patients of blood type AB'.format(ab))\n",
    "    print('There are {} patients of blood type O'.format(o))\n",
    "    print('There are {} patients of blood type OO'.format(oo))\n",
    "          \n",
    "bldcount('bloodtype1.txt')"
   ]
  },
  {
   "cell_type": "markdown",
   "id": "a4630e55",
   "metadata": {},
   "source": [
    "Question 8 Python\n",
    "Write a function curconv() that takes as input:\n",
    "1. a currency represented using a string (e.g., 'JPY' for the Japanese Yen or \n",
    "'EUR' for the Euro)\n",
    "2. an amount\n",
    "and then converts and returns the amount in US dollars."
   ]
  },
  {
   "cell_type": "code",
   "execution_count": 38,
   "id": "8c19f8f7",
   "metadata": {},
   "outputs": [
    {
     "name": "stdout",
     "output_type": "stream",
     "text": [
      "122.96544\n",
      "1.241401\n"
     ]
    }
   ],
   "source": [
    "#reference from stackoverflow\n",
    "def curconv(s,val):\n",
    "    name=open('currencies.txt','r')\n",
    "    file = name.read()\n",
    "    f = []\n",
    "    i = file.splitlines()\n",
    "    k=0\n",
    "    while k < len(i):\n",
    "        f.append(i[k].split())\n",
    "        k+=1\n",
    "    k=0\n",
    "    while k < len(f):\n",
    "        if f[k][0]==s:\n",
    "            res=int(val)*float(f[k][1])\n",
    "            break\n",
    "        k+=1\n",
    "    return res\n",
    "\n",
    "print(curconv('EUR',100))\n",
    "print(curconv('JPY', 100))"
   ]
  },
  {
   "cell_type": "markdown",
   "id": "715b8aad",
   "metadata": {},
   "source": [
    "Question 9 Python\n",
    "\n",
    "Each of the following will cause an exception (an error). Identify what type of exception each will cause.\n"
   ]
  },
  {
   "cell_type": "code",
   "execution_count": 40,
   "id": "50641a18",
   "metadata": {},
   "outputs": [
    {
     "ename": "TypeError",
     "evalue": "unsupported operand type(s) for +: 'int' and 'str'",
     "output_type": "error",
     "traceback": [
      "\u001b[1;31m---------------------------------------------------------------------------\u001b[0m",
      "\u001b[1;31mTypeError\u001b[0m                                 Traceback (most recent call last)",
      "\u001b[1;32m<ipython-input-40-79bcd98dbcfa>\u001b[0m in \u001b[0;36m<module>\u001b[1;34m\u001b[0m\n\u001b[0;32m      1\u001b[0m \u001b[1;31m#Trying to add incompatible variables, as in adding 6 + ‘a’\u001b[0m\u001b[1;33m\u001b[0m\u001b[1;33m\u001b[0m\u001b[1;33m\u001b[0m\u001b[0m\n\u001b[1;32m----> 2\u001b[1;33m \u001b[1;36m6\u001b[0m \u001b[1;33m+\u001b[0m\u001b[1;34m'a'\u001b[0m\u001b[1;33m\u001b[0m\u001b[1;33m\u001b[0m\u001b[0m\n\u001b[0m",
      "\u001b[1;31mTypeError\u001b[0m: unsupported operand type(s) for +: 'int' and 'str'"
     ]
    }
   ],
   "source": [
    "#Trying to add incompatible variables, as in adding 6 + ‘a’\n",
    "6 +'a'"
   ]
  },
  {
   "cell_type": "code",
   "execution_count": 41,
   "id": "40a4fdb2",
   "metadata": {},
   "outputs": [
    {
     "ename": "IndexError",
     "evalue": "list index out of range",
     "output_type": "error",
     "traceback": [
      "\u001b[1;31m---------------------------------------------------------------------------\u001b[0m",
      "\u001b[1;31mIndexError\u001b[0m                                Traceback (most recent call last)",
      "\u001b[1;32m<ipython-input-41-d19e5d0aa0c2>\u001b[0m in \u001b[0;36m<module>\u001b[1;34m\u001b[0m\n\u001b[0;32m      1\u001b[0m \u001b[1;31m#Referring to the 12th item of a list that has only 10 items\u001b[0m\u001b[1;33m\u001b[0m\u001b[1;33m\u001b[0m\u001b[1;33m\u001b[0m\u001b[0m\n\u001b[0;32m      2\u001b[0m \u001b[0ma\u001b[0m\u001b[1;33m=\u001b[0m\u001b[1;33m[\u001b[0m\u001b[1;36m5\u001b[0m\u001b[1;33m,\u001b[0m\u001b[1;36m5\u001b[0m\u001b[1;33m,\u001b[0m\u001b[1;36m4\u001b[0m\u001b[1;33m,\u001b[0m\u001b[1;36m6\u001b[0m\u001b[1;33m,\u001b[0m\u001b[1;36m2\u001b[0m\u001b[1;33m,\u001b[0m\u001b[1;36m10\u001b[0m\u001b[1;33m,\u001b[0m\u001b[1;36m9\u001b[0m\u001b[1;33m,\u001b[0m\u001b[1;36m9\u001b[0m\u001b[1;33m,\u001b[0m\u001b[1;36m3\u001b[0m\u001b[1;33m,\u001b[0m\u001b[1;36m9\u001b[0m\u001b[1;33m]\u001b[0m\u001b[1;33m\u001b[0m\u001b[1;33m\u001b[0m\u001b[0m\n\u001b[1;32m----> 3\u001b[1;33m \u001b[0mprint\u001b[0m\u001b[1;33m(\u001b[0m\u001b[0ma\u001b[0m\u001b[1;33m[\u001b[0m\u001b[1;36m12\u001b[0m\u001b[1;33m]\u001b[0m\u001b[1;33m)\u001b[0m\u001b[1;33m\u001b[0m\u001b[1;33m\u001b[0m\u001b[0m\n\u001b[0m",
      "\u001b[1;31mIndexError\u001b[0m: list index out of range"
     ]
    }
   ],
   "source": [
    "#Referring to the 12th item of a list that has only 10 items\n",
    "a=[5,5,4,6,2,10,9,9,3,9]\n",
    "print(a[12])"
   ]
  },
  {
   "cell_type": "code",
   "execution_count": 42,
   "id": "6df20998",
   "metadata": {},
   "outputs": [
    {
     "ename": "ValueError",
     "evalue": "math domain error",
     "output_type": "error",
     "traceback": [
      "\u001b[1;31m---------------------------------------------------------------------------\u001b[0m",
      "\u001b[1;31mValueError\u001b[0m                                Traceback (most recent call last)",
      "\u001b[1;32m<ipython-input-42-973e8f646c23>\u001b[0m in \u001b[0;36m<module>\u001b[1;34m\u001b[0m\n\u001b[0;32m      1\u001b[0m \u001b[1;31m#Using a value that is out of range for a function’s input, such as calling math.sqrt(-1.0)\u001b[0m\u001b[1;33m\u001b[0m\u001b[1;33m\u001b[0m\u001b[1;33m\u001b[0m\u001b[0m\n\u001b[0;32m      2\u001b[0m \u001b[1;32mimport\u001b[0m \u001b[0mmath\u001b[0m\u001b[1;33m\u001b[0m\u001b[1;33m\u001b[0m\u001b[0m\n\u001b[1;32m----> 3\u001b[1;33m \u001b[0mmath\u001b[0m\u001b[1;33m.\u001b[0m\u001b[0msqrt\u001b[0m\u001b[1;33m(\u001b[0m\u001b[1;33m-\u001b[0m\u001b[1;36m1.0\u001b[0m\u001b[1;33m)\u001b[0m\u001b[1;33m\u001b[0m\u001b[1;33m\u001b[0m\u001b[0m\n\u001b[0m",
      "\u001b[1;31mValueError\u001b[0m: math domain error"
     ]
    }
   ],
   "source": [
    "#Using a value that is out of range for a function’s input, such as calling math.sqrt(-1.0)\n",
    "import math\n",
    "math.sqrt(-1.0)"
   ]
  },
  {
   "cell_type": "code",
   "execution_count": 43,
   "id": "2a49e076",
   "metadata": {},
   "outputs": [
    {
     "ename": "NameError",
     "evalue": "name 'x' is not defined",
     "output_type": "error",
     "traceback": [
      "\u001b[1;31m---------------------------------------------------------------------------\u001b[0m",
      "\u001b[1;31mNameError\u001b[0m                                 Traceback (most recent call last)",
      "\u001b[1;32m<ipython-input-43-22c2afaae529>\u001b[0m in \u001b[0;36m<module>\u001b[1;34m\u001b[0m\n\u001b[0;32m      1\u001b[0m \u001b[1;31m#Using an undeclared variable, such as print(x) when x has not been defined\u001b[0m\u001b[1;33m\u001b[0m\u001b[1;33m\u001b[0m\u001b[1;33m\u001b[0m\u001b[0m\n\u001b[1;32m----> 2\u001b[1;33m \u001b[0mprint\u001b[0m\u001b[1;33m(\u001b[0m\u001b[0mx\u001b[0m\u001b[1;33m)\u001b[0m\u001b[1;33m\u001b[0m\u001b[1;33m\u001b[0m\u001b[0m\n\u001b[0m",
      "\u001b[1;31mNameError\u001b[0m: name 'x' is not defined"
     ]
    }
   ],
   "source": [
    "#Using an undeclared variable, such as print(x) when x has not been defined \n",
    "print(x)"
   ]
  },
  {
   "cell_type": "code",
   "execution_count": 44,
   "id": "d9a59a06",
   "metadata": {},
   "outputs": [
    {
     "ename": "FileNotFoundError",
     "evalue": "[Errno 2] No such file or directory: 'carrency1.txt'",
     "output_type": "error",
     "traceback": [
      "\u001b[1;31m---------------------------------------------------------------------------\u001b[0m",
      "\u001b[1;31mFileNotFoundError\u001b[0m                         Traceback (most recent call last)",
      "\u001b[1;32m<ipython-input-44-67abdd41d4d0>\u001b[0m in \u001b[0;36m<module>\u001b[1;34m\u001b[0m\n\u001b[0;32m      1\u001b[0m \u001b[1;31m#Trying to open a file that does not exist, such as mistyping the file name or looking in the wrong directory\u001b[0m\u001b[1;33m\u001b[0m\u001b[1;33m\u001b[0m\u001b[1;33m\u001b[0m\u001b[0m\n\u001b[1;32m----> 2\u001b[1;33m \u001b[0mfile\u001b[0m\u001b[1;33m=\u001b[0m\u001b[0mopen\u001b[0m\u001b[1;33m(\u001b[0m\u001b[1;34m'carrency1.txt'\u001b[0m\u001b[1;33m,\u001b[0m\u001b[1;34m'r'\u001b[0m\u001b[1;33m)\u001b[0m\u001b[1;33m\u001b[0m\u001b[1;33m\u001b[0m\u001b[0m\n\u001b[0m",
      "\u001b[1;31mFileNotFoundError\u001b[0m: [Errno 2] No such file or directory: 'carrency1.txt'"
     ]
    }
   ],
   "source": [
    "#Trying to open a file that does not exist, such as mistyping the file name or looking in the wrong directory\n",
    "file=open('carrency1.txt','r')"
   ]
  },
  {
   "cell_type": "markdown",
   "id": "f1b15026",
   "metadata": {},
   "source": [
    "Question 10 Python\n",
    "Encryption is the process of hiding the meaning of a text by substituting letters in the message with other letters, according to some system. If the process is successful, no one but the intended recipient can understand the encrypted message. Cryptanalysis refers to attempts to undo the encryption, even if some details of the encryption are unknown (for example, if an encrypted message has been intercepted). The first step of cryptanalysis is often to build up a table of letter frequencies in the encrypted text. Assume that the string letters is already defined as 'abcdefghijklmnopqrstuvwxyz'. Write a function called frequencies() that takes a string as its only parameter, and returns a list of integers, showing the number of times each character appears in the text. Your function may ignore any characters that are not in letters."
   ]
  },
  {
   "cell_type": "code",
   "execution_count": 50,
   "id": "387fdd4e",
   "metadata": {},
   "outputs": [
    {
     "name": "stdout",
     "output_type": "stream",
     "text": [
      "[1, 1, 1, 3, 5, 1, 1, 2, 1, 0, 1, 0, 1, 2, 4, 0, 1, 2, 0, 2, 1, 0, 1, 1, 0, 0]\n",
      "[1, 0, 0, 0, 1, 0, 0, 0, 0, 0, 0, 1, 0, 0, 0, 2, 0, 0, 0, 0, 0, 0, 0, 0, 0, 0]\n"
     ]
    }
   ],
   "source": [
    "#reference from stack overflow and other sites\n",
    "def frequencies(text):\n",
    "    word = []\n",
    "    alpha = 'abcdefghijklmnopqrstuvwxyz'\n",
    "    for i in range(len(alpha)):\n",
    "        count = 0\n",
    "        position=0\n",
    "        while position < len(text):\n",
    "            if alpha[i] == text[position]:\n",
    "                count += 1\n",
    "            position+=1\n",
    "        word.append(count)\n",
    "    print(word)\n",
    "    \n",
    "frequencies('The quick red fox got bored and went home.')\n",
    "frequencies('apple')"
   ]
  }
 ],
 "metadata": {
  "kernelspec": {
   "display_name": "Python 3",
   "language": "python",
   "name": "python3"
  },
  "language_info": {
   "codemirror_mode": {
    "name": "ipython",
    "version": 3
   },
   "file_extension": ".py",
   "mimetype": "text/x-python",
   "name": "python",
   "nbconvert_exporter": "python",
   "pygments_lexer": "ipython3",
   "version": "3.8.8"
  }
 },
 "nbformat": 4,
 "nbformat_minor": 5
}
